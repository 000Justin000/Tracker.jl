{
 "cells": [
  {
   "cell_type": "markdown",
   "metadata": {},
   "source": [
    "# Neural Networks in Julia"
   ]
  },
  {
   "cell_type": "markdown",
   "metadata": {},
   "source": [
    "## Walkthrough"
   ]
  },
  {
   "cell_type": "markdown",
   "metadata": {},
   "source": [
    "We start by loading the packages:"
   ]
  },
  {
   "cell_type": "code",
   "execution_count": null,
   "metadata": {
    "collapsed": false,
    "scrolled": true
   },
   "outputs": [],
   "source": [
    "using Flux, MNIST, Images"
   ]
  },
  {
   "cell_type": "markdown",
   "metadata": {},
   "source": [
    "### The Data"
   ]
  },
  {
   "cell_type": "markdown",
   "metadata": {},
   "source": [
    "Let's start by taking a quick look at the data to see what we're dealing with. We start by loading the it into an appropriate format; a list of pairs, where each pair is an input (the image) and a target output (the one-hot-encoded label)."
   ]
  },
  {
   "cell_type": "code",
   "execution_count": 2,
   "metadata": {
    "collapsed": false
   },
   "outputs": [],
   "source": [
    "const data = [(MNIST.trainfeatures(i), onehot(MNIST.trainlabel(i), 0:9)) for i = 1:60_000]\n",
    "const train = data[1:50_000]\n",
    "const test = data[50_001:60_000]\n",
    "nothing"
   ]
  },
  {
   "cell_type": "markdown",
   "metadata": {},
   "source": [
    "We can easily use Julia's array tools and the Images package to check out the data:"
   ]
  },
  {
   "cell_type": "code",
   "execution_count": 3,
   "metadata": {
    "collapsed": false
   },
   "outputs": [
    {
     "data": {
      "image/png": "[encoded data removed]",
      "text/plain": [
       "Gray Images.Image with:\n",
       "  data: 28×28 Array{Float64,2}\n",
       "  properties:\n",
       "    timedim: 0\n",
       "    colorspace: Gray\n",
       "    colordim: 0\n",
       "    spatialorder:  y x\n",
       "    pixelspacing:  1.0 1.0"
      ]
     },
     "execution_count": 3,
     "metadata": {},
     "output_type": "execute_result"
    }
   ],
   "source": [
    "convert(Image,reshape(data[31][1],(28,28))'/255)"
   ]
  },
  {
   "cell_type": "code",
   "execution_count": 4,
   "metadata": {
    "collapsed": false
   },
   "outputs": [
    {
     "data": {
      "text/plain": [
       "3"
      ]
     },
     "execution_count": 4,
     "metadata": {},
     "output_type": "execute_result"
    }
   ],
   "source": [
    "trainlabel(31) |> Int"
   ]
  },
  {
   "cell_type": "code",
   "execution_count": 5,
   "metadata": {
    "collapsed": false
   },
   "outputs": [
    {
     "data": {
      "image/png": "[encoded data removed]",
      "text/plain": [
       "Gray Images.Image with:\n",
       "  data: 28×28 Array{Float64,2}\n",
       "  properties:\n",
       "    timedim: 0\n",
       "    colorspace: Gray\n",
       "    colordim: 0\n",
       "    spatialorder:  y x\n",
       "    pixelspacing:  1.0 1.0"
      ]
     },
     "execution_count": 5,
     "metadata": {},
     "output_type": "execute_result"
    }
   ],
   "source": [
    "convert(Image,reshape(data[2][1],(28,28))/255)"
   ]
  },
  {
   "cell_type": "code",
   "execution_count": 6,
   "metadata": {
    "collapsed": false
   },
   "outputs": [
    {
     "data": {
      "text/plain": [
       "0"
      ]
     },
     "execution_count": 6,
     "metadata": {},
     "output_type": "execute_result"
    }
   ],
   "source": [
    "trainlabel(2) |> Int"
   ]
  },
  {
   "cell_type": "code",
   "execution_count": 7,
   "metadata": {
    "collapsed": false
   },
   "outputs": [
    {
     "data": {
      "text/plain": [
       "10-element Array{Int64,1}:\n",
       " 0\n",
       " 0\n",
       " 0\n",
       " 1\n",
       " 0\n",
       " 0\n",
       " 0\n",
       " 0\n",
       " 0\n",
       " 0"
      ]
     },
     "execution_count": 7,
     "metadata": {},
     "output_type": "execute_result"
    }
   ],
   "source": [
    "Int.(onehot(3, 0:9))"
   ]
  },
  {
   "cell_type": "markdown",
   "metadata": {},
   "source": [
    "This vector is in the same form as the model will use, where each number represents the probability of a label from 0-9."
   ]
  },
  {
   "cell_type": "markdown",
   "metadata": {},
   "source": [
    "### The Model"
   ]
  },
  {
   "cell_type": "markdown",
   "metadata": {},
   "source": [
    "Ok, we're ready to set up our model! We'll use a simple logistic-regression-esque setup with two hidden layers. The hidden layers will be made of rectified linear units (128 and 64 respectively), while the output of the network will go through a softmax function in order to turn it into a probability distribution."
   ]
  },
  {
   "cell_type": "markdown",
   "metadata": {},
   "source": [
    "![](http://cs231n.github.io/assets/nn1/neural_net2.jpeg)"
   ]
  },
  {
   "cell_type": "code",
   "execution_count": 9,
   "metadata": {
    "collapsed": false
   },
   "outputs": [
    {
     "data": {
      "text/plain": [
       "Chain(Flux.Input{1}((784,)), Dense(784,128), Flux.relu, Dense(128,64), Flux.relu, Dense(64,10), Flux.softmax)"
      ]
     },
     "execution_count": 9,
     "metadata": {},
     "output_type": "execute_result"
    }
   ],
   "source": [
    "m = Chain(\n",
    "  Input(784), # Size of MNIST image sample\n",
    "  Dense(128), relu,\n",
    "  Dense( 64), relu,\n",
    "  Dense( 10), softmax) # Size of output vector"
   ]
  },
  {
   "cell_type": "markdown",
   "metadata": {},
   "source": [
    "Notice how closely this maps to our description above; we simply list each fully-connected layer and its activation in order. Notice also that we didn't have to supply the input dimension for each hidden layer; given the `Input(784)` layer, Flux is smart enough to infer the dimension of each subsequent layer."
   ]
  },
  {
   "cell_type": "markdown",
   "metadata": {},
   "source": [
    "A *model* or *layer* is simply a stateful function (the state being the parameters of the network). Since the model is a function we can call it with an image to produce a prediction.\n",
    "\n",
    "(This goes both ways; above, we treated the simple Julia functions `softmax` and `relu` as models.)"
   ]
  },
  {
   "cell_type": "code",
   "execution_count": 11,
   "metadata": {
    "collapsed": false
   },
   "outputs": [
    {
     "data": {
      "text/plain": [
       "1×10 Array{Float64,2}:\n",
       " 0.100097  0.0998791  0.0998511  0.0998956  …  0.100189  0.100018  0.100032"
      ]
     },
     "execution_count": 11,
     "metadata": {},
     "output_type": "execute_result"
    }
   ],
   "source": [
    "m(train[31][1]')"
   ]
  },
  {
   "cell_type": "markdown",
   "metadata": {},
   "source": [
    "This prediction basically tells us that the model has no idea what's going on – but that's not too surprising given that we haven't trained it yet. In a moment we'll show it the data we loaded above."
   ]
  },
  {
   "cell_type": "markdown",
   "metadata": {},
   "source": [
    "In Flux we can take a complete model and modify its implementation after the fact. In this case, we'll convert the model into one that can run on the MXNet backend."
   ]
  },
  {
   "cell_type": "code",
   "execution_count": 13,
   "metadata": {
    "collapsed": false
   },
   "outputs": [
    {
     "data": {
      "text/plain": [
       "Flux.TF.Model(Session(Ptr{Void} @0x000000012cbbf290),TensorFlow.Tensor[<Tensor placeholder:1 shape=unknown dtype=Float32>],<Tensor node_15:1 shape=unknown dtype=Float32>,<Tensor gradients/MatMul_grad/MatMul:1 shape=unknown dtype=Float32>)"
      ]
     },
     "execution_count": 13,
     "metadata": {},
     "output_type": "execute_result"
    }
   ],
   "source": [
    "model = tf(m) # or `tf(m)` to run on TensorFlow"
   ]
  },
  {
   "cell_type": "markdown",
   "metadata": {},
   "source": [
    "Last of all we want to train the model on our data."
   ]
  },
  {
   "cell_type": "code",
   "execution_count": 14,
   "metadata": {
    "collapsed": false,
    "scrolled": true
   },
   "outputs": [
    {
     "name": "stderr",
     "output_type": "stream",
     "text": [
      "INFO: Epoch 1\n"
     ]
    },
    {
     "name": "stdout",
     "output_type": "stream",
     "text": [
      "y = Float32[0.100094 0.099893 0.0998293 0.099919 0.0999388 0.100123 0.0999624 0.100185 0.100024 0.100031]\n",
      "accuracy(m,test) = 0.109\n",
      "y = Float32[0.0999111 0.100465 0.0997179 0.0998629 0.100282 0.0994788 0.0999943 0.100667 0.0996533 0.0999675]\n",
      "accuracy(m,test) = 0.109\n",
      "y = Float32[0.103446 0.10002 0.100398 0.102059 0.0977901 0.0989413 0.0995703 0.0993392 0.100129 0.0983073]\n",
      "accuracy(m,test) = 0.1779\n",
      "y = Float32[0.0288616 0.136275 0.0976122 0.103702 0.0972153 0.113357 0.0834434 0.0843929 0.153776 0.101365]\n",
      "accuracy(m,test) = 0.3236\n",
      "y = Float32[1.94426f-6 8.36834f-11 1.50476f-8 5.13133f-8 0.0209049 0.887724 0.000472463 2.70319f-7 0.0901923 0.000703486]\n",
      "accuracy(m,test) = 0.8258\n",
      "y = Float32[0.00507439 0.0108996 0.0307061 0.364342 0.00413664 0.0342019 0.000766874 0.364772 0.0279412 0.157159]\n",
      "accuracy(m,test) = 0.8543\n",
      "y = Float32[6.40463f-14 2.77292f-10 2.8507f-9 0.999999 8.78815f-15 5.18649f-7 1.1916f-16 5.82441f-11 7.00438f-8 3.48348f-11]\n",
      "accuracy(m,test) = 0.7922\n",
      "y = Float32[1.47776f-7 0.997464 0.000132982 0.000113373 4.29683f-5 6.14733f-7 1.82552f-5 7.3389f-6 0.00221002 1.02455f-5]\n",
      "accuracy(m,test) = 0.9133\n",
      "y = Float32[4.12331f-9 4.38521f-13 2.32062f-8 1.82065f-8 8.9981f-12 2.4413f-6 5.51279f-13 0.999988 9.02321f-11 9.3387f-6]\n",
      "accuracy(m,test) = 0.9151\n",
      "y = Float32[5.29229f-8 0.000115183 4.59078f-7 0.887777 8.759f-6 0.0215426 7.45297f-8 7.17829f-6 0.0854197 0.00512896]\n",
      "accuracy(m,test) = 0.8715\n",
      "149.428110 seconds (27.60 M allocations: 2.383 GB, 2.10% gc time)\n"
     ]
    }
   ],
   "source": [
    "@time Flux.train!(model, train, test, epoch = 1, η=0.001)"
   ]
  },
  {
   "cell_type": "markdown",
   "metadata": {},
   "source": [
    "You can see the accuracy being printed after every 1000 samples, and it shoots up pretty quickly to around 95%. Not state of the art, but not bad for the simplicity of the model. We might have more luck with our predictions now:"
   ]
  },
  {
   "cell_type": "code",
   "execution_count": 15,
   "metadata": {
    "collapsed": false
   },
   "outputs": [
    {
     "data": {
      "image/png": "[encoded data removed]",
      "text/plain": [
       "Gray Images.Image with:\n",
       "  data: 28×28 Array{Float64,2}\n",
       "  properties:\n",
       "    timedim: 0\n",
       "    colorspace: Gray\n",
       "    colordim: 0\n",
       "    spatialorder:  y x\n",
       "    pixelspacing:  1.0 1.0"
      ]
     },
     "execution_count": 15,
     "metadata": {},
     "output_type": "execute_result"
    }
   ],
   "source": [
    "convert(Image,reshape(data[31][1],(28,28))'/255)"
   ]
  },
  {
   "cell_type": "code",
   "execution_count": 16,
   "metadata": {
    "collapsed": false
   },
   "outputs": [
    {
     "data": {
      "text/plain": [
       "10-element Array{Float32,1}:\n",
       " 0.0  \n",
       " 0.019\n",
       " 0.004\n",
       " 0.966\n",
       " 0.0  \n",
       " 0.001\n",
       " 0.0  \n",
       " 0.004\n",
       " 0.004\n",
       " 0.002"
      ]
     },
     "execution_count": 16,
     "metadata": {},
     "output_type": "execute_result"
    }
   ],
   "source": [
    "map(x->round(x, 3), model(data[31][1]))"
   ]
  },
  {
   "cell_type": "code",
   "execution_count": 17,
   "metadata": {
    "collapsed": false
   },
   "outputs": [
    {
     "data": {
      "text/plain": [
       "3"
      ]
     },
     "execution_count": 17,
     "metadata": {},
     "output_type": "execute_result"
    }
   ],
   "source": [
    "onecold(model(data[31][1]), 0:9)"
   ]
  },
  {
   "cell_type": "markdown",
   "metadata": {},
   "source": [
    "As you can see from the output probability distribution above, our model is 97% confident that the digit is a 3."
   ]
  },
  {
   "cell_type": "markdown",
   "metadata": {},
   "source": [
    "## Under the hood"
   ]
  },
  {
   "cell_type": "markdown",
   "metadata": {},
   "source": [
    "A \"model\" is some function-like object which supports `back!(model, Δ, inputs...)` in order to calculate gradients. Flux makes it really easy to define custom layer types, and for the most part can do a lot of the work for you. For example, we could implement a perceptron layer as follows:"
   ]
  },
  {
   "cell_type": "code",
   "execution_count": null,
   "metadata": {
    "collapsed": true
   },
   "outputs": [],
   "source": [
    "@net type Perceptron\n",
    "  W\n",
    "  b\n",
    "  x -> σ(W*x + b)\n",
    "end\n",
    "\n",
    "Perceptron(in::Integer, out::Integer) =\n",
    "  Perceptron(randn(out, in), randn(out))"
   ]
  },
  {
   "cell_type": "markdown",
   "metadata": {},
   "source": [
    "This is just the equation you'd find in a textbook! Because `Perceptron` is a simple Julia type, we can define a handy convenience constructor to initialise the weights as well. (This is almost exactly how `Dense` is defined in Flux itself, by the way – no special casing here.)\n",
    "\n",
    "The `@net` macro is fairly simple, and just extends our basic type definition with some useful functionality like the backward pass. It's easy to see what's going on:"
   ]
  },
  {
   "cell_type": "code",
   "execution_count": null,
   "metadata": {
    "collapsed": false
   },
   "outputs": [],
   "source": [
    "using MacroTools\n",
    "\n",
    "@expand(@net type Perceptron\n",
    "  W\n",
    "  b\n",
    "  x -> σ.(W*x + b)\n",
    "end) |> longdef |> prettify"
   ]
  },
  {
   "cell_type": "code",
   "execution_count": null,
   "metadata": {
    "collapsed": true
   },
   "outputs": [],
   "source": [
    "type Perceptron <: Model\n",
    "  W\n",
    "  b\n",
    "end\n",
    "\n",
    "function Perceptron(W::AArray,b::AArray)\n",
    "  Perceptron(param(W),param(b)) # `param` stores the parameter and its gradient together\n",
    "end\n",
    "\n",
    "function (self::Perceptron)(x)\n",
    "  σ(state(self.W) * x + state(self.b))\n",
    "end\n",
    "\n",
    "function back!(self::Perceptron,Δ,x)\n",
    "  owl = (back!(σ,Δ,state(self.W) * x + state(self.b)))[1]\n",
    "  gerbil = back!(*,owl,state(self.W),x)\n",
    "  accumulate!(self.W,gerbil[1])\n",
    "  accumulate!(self.b,owl)\n",
    "  (gerbil[2],)\n",
    "end\n",
    "\n",
    "function update!(self::Perceptron,η)\n",
    "  update!(self.W,η)\n",
    "  update!(self.b,η)\n",
    "end\n",
    "\n",
    "function graph(::Perceptron)\n",
    "  vertex(σ,vertex(+,vertex(*,constant(Flux.ModelInput(:W)),constant(Flux.ModelInput(1))),constant(Flux.ModelInput(:b))))\n",
    "end"
   ]
  },
  {
   "cell_type": "markdown",
   "metadata": {},
   "source": [
    "This is exactly the sort of code we might have written by hand if we were using something like Torch. The forward pass is recognisable as the function we wrote in the original definition and `back!` implements the gradient pass. The main odd feature here is the `graph` function; this returns the graph representation of the model, which allows Flux to compile it for other backends.\n",
    "\n",
    "Models can contain other models, so you could just as well implement the above by reusing Flux's built-in `Dense` layer:"
   ]
  },
  {
   "cell_type": "code",
   "execution_count": null,
   "metadata": {
    "collapsed": false
   },
   "outputs": [],
   "source": [
    "@net type Perceptron\n",
    "  dense::Dense\n",
    "  x -> σ(dense(x))\n",
    "end\n",
    "\n",
    "Perceptron(in, out) = Perceptron(Dense(in, out))"
   ]
  },
  {
   "cell_type": "markdown",
   "metadata": {},
   "source": [
    "This allows you to build up models of arbitrary complexity in a completely declarative way."
   ]
  },
  {
   "cell_type": "markdown",
   "metadata": {},
   "source": [
    "Because models are just Julia objects conforming to a protocol, it's easy to implement *completely* custom models, which don't use the `@net` macro. For example, perhaps the function isn't easy to auto-differentiate, or you need a custom GPU kernel. An example of the former kind is the `Chain` model used above, which is defined roughly like so:"
   ]
  },
  {
   "cell_type": "code",
   "execution_count": null,
   "metadata": {
    "collapsed": false
   },
   "outputs": [],
   "source": [
    "type Chain <: Model\n",
    "    layers::Vector{Any}\n",
    "    Chain(ms...) = Chain(collect(ms))\n",
    "end\n",
    "\n",
    "(s::Chain)(x) = foldl((x, m) -> m(x), x, s.layers)\n",
    "back!(s::Chain, ∇) = foldr((m, ∇) -> back!(m, ∇), ∇, s.layers)\n",
    "update!(s::Chain, η) = foreach(l -> update!(l, η), s.layers)"
   ]
  },
  {
   "cell_type": "markdown",
   "metadata": {},
   "source": [
    "Likewise, the `relu` function is defined as:"
   ]
  },
  {
   "cell_type": "code",
   "execution_count": null,
   "metadata": {
    "collapsed": true
   },
   "outputs": [],
   "source": [
    "relu(x) = max(0, x)\n",
    "back!(::typeof(relu), Δ, x) = Δ .* (x .< 0)"
   ]
  }
 ],
 "metadata": {
  "kernelspec": {
   "display_name": "Julia 0.5.0-rc3",
   "language": "julia",
   "name": "julia-0.5"
  },
  "language_info": {
   "file_extension": ".jl",
   "mimetype": "application/julia",
   "name": "julia",
   "version": "0.5.1"
  }
 },
 "nbformat": 4,
 "nbformat_minor": 1
}
